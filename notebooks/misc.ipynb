{
 "cells": [
  {
   "cell_type": "markdown",
   "metadata": {},
   "source": [
    "## Import local packages, e.g., dice, spotlight"
   ]
  },
  {
   "cell_type": "code",
   "execution_count": 17,
   "metadata": {},
   "outputs": [],
   "source": [
    "import os\n",
    "import sys\n",
    "\n",
    "for p in ['../spotlight_ext', '../dice_ext']:\n",
    "    module_path = os.path.abspath(os.path.join(p))\n",
    "    if module_path not in sys.path:\n",
    "        sys.path.append(module_path)"
   ]
  },
  {
   "cell_type": "markdown",
   "metadata": {},
   "source": [
    "## Usage example for spotlight"
   ]
  },
  {
   "cell_type": "code",
   "execution_count": 8,
   "metadata": {},
   "outputs": [],
   "source": [
    "from spotlight.cross_validation import random_train_test_split\n",
    "from spotlight.datasets.movielens import get_movielens_dataset\n",
    "from spotlight.evaluation import mrr_score\n",
    "from spotlight.factorization.implicit import ImplicitFactorizationModel"
   ]
  },
  {
   "cell_type": "code",
   "execution_count": 18,
   "metadata": {},
   "outputs": [],
   "source": [
    "dataset = get_movielens_dataset(variant='100K')\n",
    "\n",
    "train, test = random_train_test_split(dataset)\n",
    "\n",
    "model = ImplicitFactorizationModel(n_iter=3, loss='bpr')\n",
    "model.fit(train)\n",
    "\n",
    "mrr = mrr_score(model, test)"
   ]
  },
  {
   "cell_type": "markdown",
   "metadata": {},
   "source": [
    "## Sequential models"
   ]
  },
  {
   "cell_type": "code",
   "execution_count": 113,
   "metadata": {},
   "outputs": [],
   "source": [
    "from spotlight.cross_validation import user_based_train_test_split\n",
    "from spotlight.datasets.synthetic import generate_sequential\n",
    "from spotlight.evaluation import sequence_mrr_score\n",
    "from spotlight.sequence.implicit import ImplicitSequenceModel\n",
    "\n",
    "# dataset = generate_sequential(num_users=100,\n",
    "#                               num_items=1000,\n",
    "#                               num_interactions=10000,\n",
    "#                               concentration_parameter=0.01,\n",
    "#                               order=3)\n",
    "\n",
    "# train, test = user_based_train_test_split(dataset)\n",
    "\n",
    "dataset = get_movielens_dataset(variant='100K')\n",
    "train, test = random_train_test_split(dataset)\n",
    "\n",
    "train = train.to_sequence()\n",
    "test = test.to_sequence()\n",
    "\n",
    "model = ImplicitSequenceModel(n_iter=3,\n",
    "                              representation='cnn',\n",
    "                              loss='bpr')\n",
    "model.fit(train)\n",
    "\n",
    "mrr = sequence_mrr_score(model, test)"
   ]
  },
  {
   "cell_type": "code",
   "execution_count": 114,
   "metadata": {},
   "outputs": [
    {
     "data": {
      "text/plain": [
       "[(748, 16.099224),\n",
       " (286, 15.949971),\n",
       " (294, 15.349819),\n",
       " (100, 15.261223),\n",
       " (174, 15.060287),\n",
       " (258, 15.014128),\n",
       " (50, 14.754667),\n",
       " (98, 14.642721),\n",
       " (300, 14.281036),\n",
       " (181, 14.238572)]"
      ]
     },
     "execution_count": 114,
     "metadata": {},
     "output_type": "execute_result"
    }
   ],
   "source": [
    "predictions = model.predict([1,2,3])\n",
    "sorted(enumerate(predictions), reverse=True, key=lambda x: x[1])[:10]"
   ]
  },
  {
   "cell_type": "code",
   "execution_count": 130,
   "metadata": {},
   "outputs": [
    {
     "data": {
      "text/plain": [
       "[(748, 18.539179),\n",
       " (286, 18.417192),\n",
       " (294, 17.75017),\n",
       " (100, 17.592972),\n",
       " (258, 17.393171),\n",
       " (174, 17.379957),\n",
       " (50, 17.03463),\n",
       " (98, 16.864065),\n",
       " (300, 16.497986),\n",
       " (181, 16.462158)]"
      ]
     },
     "execution_count": 130,
     "metadata": {},
     "output_type": "execute_result"
    }
   ],
   "source": [
    "predictions = model.predict(test.sequences[test.user_ids==940])\n",
    "sorted(enumerate(predictions), reverse=True, key=lambda x: x[1])[:10]"
   ]
  },
  {
   "cell_type": "markdown",
   "metadata": {},
   "source": [
    "## Causal convolutions for sequence-based recommendations"
   ]
  },
  {
   "cell_type": "code",
   "execution_count": 70,
   "metadata": {},
   "outputs": [],
   "source": [
    "hyperparameters = {\n",
    "    'embedding_dim': 128,\n",
    "    'kernel_width': 5,\n",
    "    'dilation': [1, 2, 4],\n",
    "    'num_layers': 5,\n",
    "    'nonlinearity': 'relu',\n",
    "    'residual': True,\n",
    "    'loss': 'adaptive_hinge',\n",
    "    'batch_size': 128,\n",
    "    'learning_rate': 0.01,\n",
    "    'l2': 0,\n",
    "    'n_iter': 50\n",
    "}"
   ]
  },
  {
   "cell_type": "code",
   "execution_count": 71,
   "metadata": {},
   "outputs": [],
   "source": [
    "import torch\n",
    "\n",
    "from spotlight.sequence.implicit import ImplicitSequenceModel\n",
    "from spotlight.sequence.representations import CNNNet\n",
    "from spotlight.evaluation import sequence_mrr_score\n",
    "\n",
    "\n",
    "net = CNNNet(train.num_items,\n",
    "             embedding_dim=hyperparameters['embedding_dim'],\n",
    "             kernel_width=hyperparameters['kernel_width'],\n",
    "             dilation=hyperparameters['dilation'],\n",
    "             num_layers=hyperparameters['num_layers'],\n",
    "             nonlinearity=hyperparameters['nonlinearity'],\n",
    "             residual_connections=hyperparameters['residual'])\n",
    "\n",
    "model = ImplicitSequenceModel(loss=hyperparameters['loss'],\n",
    "                              representation=net,\n",
    "                              batch_size=hyperparameters['batch_size'],\n",
    "                              learning_rate=hyperparameters['learning_rate'],\n",
    "                              l2=hyperparameters['l2'],\n",
    "                              n_iter=hyperparameters['n_iter'],\n",
    "                              use_cuda=torch.cuda.is_available(),\n",
    "#                               random_state=random_state\n",
    "                             )\n",
    "\n",
    "model.fit(train)\n",
    "\n",
    "test_mrr = sequence_mrr_score(model, test)\n",
    "# val_mrr = sequence_mrr_score(model, validation)"
   ]
  },
  {
   "cell_type": "code",
   "execution_count": 74,
   "metadata": {},
   "outputs": [
    {
     "name": "stdout",
     "output_type": "stream",
     "text": [
      "Test MRR [0.01612903 0.0060241  0.00290698 0.00218818 0.05263158 0.00220751\n",
      " 0.01052632 0.0052356  0.03333333 0.00108696 0.05       0.33333333\n",
      " 0.00411523 0.00108696 0.00116009 0.01754386 0.00115875 0.00174216\n",
      " 1.         0.00273224 0.00103199 0.01149425 0.01470588 0.00150376\n",
      " 0.00115741 0.00134771 0.00526316 0.00189036 0.00181488 0.00409836\n",
      " 0.00537634 0.00101833 0.01075269 0.00168067 1.         0.00232019\n",
      " 0.00315457 0.01020408 0.00111235 0.00290698 0.125      0.00584795\n",
      " 0.01149425 0.00970874 0.0013624  0.00161812 0.00175439 0.00308642\n",
      " 0.00275482 1.         0.00137931 0.00423729 0.16666667 0.00187266\n",
      " 0.00138122 0.00154799 0.00485437 0.00121951 0.00127877 0.125\n",
      " 0.00117647 0.00507614 0.00564972 1.         0.01960784 0.00169205\n",
      " 0.00172414 0.00198807 0.01282051 0.0010989  0.00555556 0.00116686\n",
      " 0.00247525 0.00689655 0.01492537 0.0037037  0.01315789 0.001321\n",
      " 0.00143472 0.001287   0.00662252 0.00168919 0.00280899 0.00298507\n",
      " 0.004      0.03333333 0.00204499 0.0013245  0.00181818 0.00111982\n",
      " 0.01470588 0.00813008 0.00106724 0.00294118 0.02439024 0.00229358\n",
      " 0.00122549 0.00116144 0.00104384 0.00151976 0.01923077 0.00168634\n",
      " 0.00122699 0.00358423 0.05       0.00327869 0.00159236 0.00160514\n",
      " 0.00108342 0.0020202  0.01234568 0.00487805 0.03846154 0.00584795\n",
      " 0.00106045 0.00245098 0.00230415 0.00645161 0.00296736 0.00108578\n",
      " 0.00348432 0.0011919  0.00595238 0.5        0.05882353 0.00198807\n",
      " 0.00383142 0.04       0.02       0.00290698 0.0022779  0.04166667\n",
      " 0.00294118 0.01315789 0.01123596 0.00357143 0.00296736 0.00139665\n",
      " 0.00163399 0.00139276 0.02222222 0.00107875 0.00344828 0.00176367\n",
      " 0.00854701 0.00310559 0.00146628 0.00222222 0.0014556  0.00196078\n",
      " 0.00309598 0.00460829 0.00341297 0.0013089  0.00191205 0.00675676\n",
      " 0.00234192 0.01010101 0.00201207 0.00234742 0.00144928 0.00371747\n",
      " 0.00392157 0.00657895 0.0022779  0.00332226 0.0014881  0.00324675\n",
      " 0.0044843  0.00140056 0.00121507 0.00411523 0.00438596 0.0015083\n",
      " 0.00233645 0.003663   0.00149701 0.00138504 0.01075269 0.00132275\n",
      " 0.005      0.03703704 0.00105597 0.003003   0.00132979 0.00211864\n",
      " 0.00531915 0.0041841  0.00361011 0.00114679 0.00179856 0.00423729\n",
      " 0.00124069 0.00132626 0.00558659 0.00578035 0.00209205 0.00132802\n",
      " 0.09090909 0.00137174 0.0010929  0.00406504 0.00218341 0.03571429\n",
      " 0.00100908 0.00146628 0.00138696 0.0034965  0.00225734 0.01234568\n",
      " 0.00105932 0.003663   0.00173913 0.00215054 0.00209205 0.00201613\n",
      " 0.00478469 0.0014556  0.00170358 0.00114025 0.00306748 0.00104712\n",
      " 0.00299401 0.00235849 0.00294118 0.0012837 ]\n"
     ]
    }
   ],
   "source": [
    "print(f'Test MRR {test_mrr}')"
   ]
  },
  {
   "cell_type": "markdown",
   "metadata": {},
   "source": [
    "## Usage example for DiCE with torch"
   ]
  },
  {
   "cell_type": "code",
   "execution_count": 16,
   "metadata": {},
   "outputs": [],
   "source": [
    "import dice_ml\n",
    "from dice_ml.utils import helpers # helper functions\n",
    "\n",
    "backend = 'PYT'\n",
    "# Dataset for training an ML model\n",
    "d = dice_ml.Data(dataframe=helpers.load_adult_income_dataset(),\n",
    "                 continuous_features=['age', 'hours_per_week'],\n",
    "                 outcome_name='income')\n",
    "# Pre-trained ML model\n",
    "m = dice_ml.Model(model_path=dice_ml.utils.helpers.get_adult_income_modelpath(backend=backend), backend=backend)\n",
    "# DiCE explanation instance\n",
    "exp = dice_ml.Dice(d,m)"
   ]
  },
  {
   "cell_type": "code",
   "execution_count": 53,
   "metadata": {},
   "outputs": [],
   "source": [
    "query_instance = {\n",
    "    'age':22,\n",
    "    'workclass':'Private',\n",
    "    'education':'HS-grad',\n",
    "    'marital_status':'Single',\n",
    "    'occupation':'Service',\n",
    "    'race': 'White',\n",
    "    'gender':'Female',\n",
    "    'hours_per_week': 45\n",
    "}"
   ]
  },
  {
   "cell_type": "code",
   "execution_count": 55,
   "metadata": {},
   "outputs": [
    {
     "name": "stdout",
     "output_type": "stream",
     "text": [
      "Diverse Counterfactuals found! total time taken: 00 min 03 sec\n",
      "Query instance (original outcome : 0)\n"
     ]
    },
    {
     "data": {
      "text/html": [
       "<div>\n",
       "<style scoped>\n",
       "    .dataframe tbody tr th:only-of-type {\n",
       "        vertical-align: middle;\n",
       "    }\n",
       "\n",
       "    .dataframe tbody tr th {\n",
       "        vertical-align: top;\n",
       "    }\n",
       "\n",
       "    .dataframe thead th {\n",
       "        text-align: right;\n",
       "    }\n",
       "</style>\n",
       "<table border=\"1\" class=\"dataframe\">\n",
       "  <thead>\n",
       "    <tr style=\"text-align: right;\">\n",
       "      <th></th>\n",
       "      <th>age</th>\n",
       "      <th>workclass</th>\n",
       "      <th>education</th>\n",
       "      <th>marital_status</th>\n",
       "      <th>occupation</th>\n",
       "      <th>race</th>\n",
       "      <th>gender</th>\n",
       "      <th>hours_per_week</th>\n",
       "      <th>income</th>\n",
       "    </tr>\n",
       "  </thead>\n",
       "  <tbody>\n",
       "    <tr>\n",
       "      <th>0</th>\n",
       "      <td>22.0</td>\n",
       "      <td>Private</td>\n",
       "      <td>HS-grad</td>\n",
       "      <td>Single</td>\n",
       "      <td>Service</td>\n",
       "      <td>White</td>\n",
       "      <td>Female</td>\n",
       "      <td>45.0</td>\n",
       "      <td>0.000042</td>\n",
       "    </tr>\n",
       "  </tbody>\n",
       "</table>\n",
       "</div>"
      ],
      "text/plain": [
       "    age workclass education marital_status occupation   race  gender  \\\n",
       "0  22.0   Private   HS-grad         Single    Service  White  Female   \n",
       "\n",
       "   hours_per_week    income  \n",
       "0            45.0  0.000042  "
      ]
     },
     "metadata": {},
     "output_type": "display_data"
    },
    {
     "name": "stdout",
     "output_type": "stream",
     "text": [
      "\n",
      "Diverse Counterfactual set (new outcome : 1)\n"
     ]
    },
    {
     "data": {
      "text/html": [
       "<div>\n",
       "<style scoped>\n",
       "    .dataframe tbody tr th:only-of-type {\n",
       "        vertical-align: middle;\n",
       "    }\n",
       "\n",
       "    .dataframe tbody tr th {\n",
       "        vertical-align: top;\n",
       "    }\n",
       "\n",
       "    .dataframe thead th {\n",
       "        text-align: right;\n",
       "    }\n",
       "</style>\n",
       "<table border=\"1\" class=\"dataframe\">\n",
       "  <thead>\n",
       "    <tr style=\"text-align: right;\">\n",
       "      <th></th>\n",
       "      <th>age</th>\n",
       "      <th>workclass</th>\n",
       "      <th>education</th>\n",
       "      <th>marital_status</th>\n",
       "      <th>occupation</th>\n",
       "      <th>race</th>\n",
       "      <th>gender</th>\n",
       "      <th>hours_per_week</th>\n",
       "      <th>income</th>\n",
       "    </tr>\n",
       "  </thead>\n",
       "  <tbody>\n",
       "    <tr>\n",
       "      <th>0</th>\n",
       "      <td>57.0</td>\n",
       "      <td>Private</td>\n",
       "      <td>Doctorate</td>\n",
       "      <td>Married</td>\n",
       "      <td>White-Collar</td>\n",
       "      <td>White</td>\n",
       "      <td>Female</td>\n",
       "      <td>45.0</td>\n",
       "      <td>0.993</td>\n",
       "    </tr>\n",
       "    <tr>\n",
       "      <th>1</th>\n",
       "      <td>33.0</td>\n",
       "      <td>Private</td>\n",
       "      <td>Prof-school</td>\n",
       "      <td>Married</td>\n",
       "      <td>Service</td>\n",
       "      <td>White</td>\n",
       "      <td>Male</td>\n",
       "      <td>39.0</td>\n",
       "      <td>0.964</td>\n",
       "    </tr>\n",
       "    <tr>\n",
       "      <th>2</th>\n",
       "      <td>22.0</td>\n",
       "      <td>Self-Employed</td>\n",
       "      <td>Prof-school</td>\n",
       "      <td>Married</td>\n",
       "      <td>Service</td>\n",
       "      <td>White</td>\n",
       "      <td>Female</td>\n",
       "      <td>45.0</td>\n",
       "      <td>0.748</td>\n",
       "    </tr>\n",
       "    <tr>\n",
       "      <th>3</th>\n",
       "      <td>49.0</td>\n",
       "      <td>Private</td>\n",
       "      <td>Masters</td>\n",
       "      <td>Married</td>\n",
       "      <td>Service</td>\n",
       "      <td>White</td>\n",
       "      <td>Female</td>\n",
       "      <td>62.0</td>\n",
       "      <td>0.957</td>\n",
       "    </tr>\n",
       "  </tbody>\n",
       "</table>\n",
       "</div>"
      ],
      "text/plain": [
       "    age      workclass    education marital_status    occupation   race  \\\n",
       "0  57.0        Private    Doctorate        Married  White-Collar  White   \n",
       "1  33.0        Private  Prof-school        Married       Service  White   \n",
       "2  22.0  Self-Employed  Prof-school        Married       Service  White   \n",
       "3  49.0        Private      Masters        Married       Service  White   \n",
       "\n",
       "   gender  hours_per_week  income  \n",
       "0  Female            45.0   0.993  \n",
       "1    Male            39.0   0.964  \n",
       "2  Female            45.0   0.748  \n",
       "3  Female            62.0   0.957  "
      ]
     },
     "metadata": {},
     "output_type": "display_data"
    }
   ],
   "source": [
    "# Generate counterfactual examples\n",
    "dice_exp = exp.generate_counterfactuals(query_instance, total_CFs=4, desired_class=\"opposite\")\n",
    "# Visualize counterfactual explanation\n",
    "dice_exp.visualize_as_dataframe()"
   ]
  },
  {
   "cell_type": "code",
   "execution_count": null,
   "metadata": {},
   "outputs": [],
   "source": []
  }
 ],
 "metadata": {
  "kernelspec": {
   "display_name": "CFExplainability",
   "language": "python",
   "name": "cfexplainability"
  },
  "language_info": {
   "codemirror_mode": {
    "name": "ipython",
    "version": 3
   },
   "file_extension": ".py",
   "mimetype": "text/x-python",
   "name": "python",
   "nbconvert_exporter": "python",
   "pygments_lexer": "ipython3",
   "version": "3.6.9"
  }
 },
 "nbformat": 4,
 "nbformat_minor": 4
}
