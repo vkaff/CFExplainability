{
 "cells": [
  {
   "cell_type": "code",
   "execution_count": 18,
   "metadata": {},
   "outputs": [],
   "source": [
    "import os, sys\n",
    "import numpy as np\n",
    "import itertools\n",
    "from collections import defaultdict\n",
    "\n",
    "from tqdm.notebook import trange\n",
    "from tqdm import tqdm"
   ]
  },
  {
   "cell_type": "code",
   "execution_count": 19,
   "metadata": {},
   "outputs": [],
   "source": [
    "for p in ['../spotlight_ext']:\n",
    "    module_path = os.path.abspath(os.path.join(p))\n",
    "    if module_path not in sys.path:\n",
    "        sys.path.append(module_path)\n",
    "\n",
    "random_state = np.random.RandomState(2020)"
   ]
  },
  {
   "cell_type": "code",
   "execution_count": 22,
   "metadata": {},
   "outputs": [],
   "source": [
    "from spotlight.cross_validation import random_train_test_split\n",
    "from spotlight.datasets.movielens import get_movielens_dataset\n",
    "\n",
    "# get dataset\n",
    "dataset = get_movielens_dataset(variant='1M')\n",
    "train, test = random_train_test_split(dataset, random_state=random_state)\n",
    "\n",
    "max_sequence_length = 20\n",
    "train = train.to_sequence(max_sequence_length=max_sequence_length)\n",
    "test = test.to_sequence(max_sequence_length=max_sequence_length)"
   ]
  },
  {
   "cell_type": "code",
   "execution_count": 20,
   "metadata": {},
   "outputs": [],
   "source": [
    "# load functions from another notebook\n",
    "%run helpers.ipynb"
   ]
  },
  {
   "cell_type": "code",
   "execution_count": 21,
   "metadata": {},
   "outputs": [],
   "source": [
    "pooling_model = load_model('pooling')"
   ]
  },
  {
   "cell_type": "code",
   "execution_count": 111,
   "metadata": {},
   "outputs": [
    {
     "name": "stderr",
     "output_type": "stream",
     "text": [
      "target position loop:   0%|          | 0/1 [00:00<?, ?it/s]"
     ]
    },
    {
     "data": {
      "application/vnd.jupyter.widget-view+json": {
       "model_id": "",
       "version_major": 2,
       "version_minor": 0
      },
      "text/plain": [
       "HBox(children=(HTML(value='users loop'), FloatProgress(value=0.0, max=49.0), HTML(value='')))"
      ]
     },
     "metadata": {},
     "output_type": "display_data"
    },
    {
     "name": "stderr",
     "output_type": "stream",
     "text": [
      "target position loop: 10it [00:32,  3.23s/it]              \n"
     ]
    }
   ],
   "source": [
    "target_item_pos = [3]\n",
    "\n",
    "res = []\n",
    "tuples_length = 3\n",
    "top_k = 10\n",
    "model = pooling_model\n",
    "num_users = 50\n",
    "materialized_pred_scores = defaultdict(list)\n",
    "\n",
    "with tqdm(total=len(target_item_pos), desc='target position loop') as pbar:\n",
    "    for pos in target_item_pos:\n",
    "#         best_tot_loss_data[pos] = []\n",
    "        pbar.update(10)\n",
    "\n",
    "        for user_id in trange(1, num_users, desc='users loop', leave=False):\n",
    "            seq_size = len(test.sequences[test.user_ids == user_id])\n",
    "\n",
    "            for j in range(seq_size):\n",
    "                if all(v > 0 for v in test.sequences[test.user_ids == user_id][j]):\n",
    "                    items_interacted = test.sequences[test.user_ids == user_id][j]\n",
    "\n",
    "                    predictions = -model.predict(items_interacted)\n",
    "                    predictions[items_interacted] = StaticVars.FLOAT_MAX\n",
    "\n",
    "                    target_item = predictions.argsort()[min(top_k, int(pos)) - 1]\n",
    "\n",
    "                    for r in range(tuples_length):\n",
    "                        combs = itertools.combinations(items_interacted, r + 1)\n",
    "                        for c in combs:\n",
    "                            preds = -model.predict(list(set(items_interacted).difference(set(c))))\n",
    "                            preds[items_interacted] = StaticVars.FLOAT_MAX\n",
    "\n",
    "                            materialized_pred_scores[user_id].append([c, preds[target_item], preds[preds.argsort()[top_k - 1]]])\n",
    "                            \n",
    "#                     for r in range(2, tuples_length + 2):\n",
    "#                         combs = itertools.combinations(items_interacted, r)\n",
    "#                         for c in combs:\n",
    "#                             preds = -model.predict(list(set(items_interacted).difference(set(c))))\n",
    "#                             preds[items_interacted] = StaticVars.FLOAT_MAX\n",
    "                            \n",
    "                            "
   ]
  },
  {
   "cell_type": "code",
   "execution_count": 116,
   "metadata": {},
   "outputs": [],
   "source": [
    "after_top_k = []\n",
    "before_top_k = []\n",
    "for k, val in materialized_pred_scores.items():\n",
    "    for comb in val:\n",
    "        if (comb[1] / comb[2]) < 1:\n",
    "#             print(k, comb)\n",
    "            before_top_k.append(k)\n",
    "        else: after_top_k.append(k)"
   ]
  },
  {
   "cell_type": "code",
   "execution_count": null,
   "metadata": {},
   "outputs": [],
   "source": []
  }
 ],
 "metadata": {
  "kernelspec": {
   "display_name": "CFExplainability",
   "language": "python",
   "name": "cfexplainability"
  },
  "language_info": {
   "codemirror_mode": {
    "name": "ipython",
    "version": 3
   },
   "file_extension": ".py",
   "mimetype": "text/x-python",
   "name": "python",
   "nbconvert_exporter": "python",
   "pygments_lexer": "ipython3",
   "version": "3.6.9"
  }
 },
 "nbformat": 4,
 "nbformat_minor": 4
}
