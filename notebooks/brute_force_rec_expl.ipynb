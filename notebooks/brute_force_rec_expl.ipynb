{
 "cells": [
  {
   "cell_type": "code",
   "execution_count": 3,
   "metadata": {},
   "outputs": [],
   "source": [
    "import os, sys\n",
    "\n",
    "import torch\n",
    "import scipy.stats as st\n",
    "from scipy.spatial.distance import pdist, squareform\n",
    "import numpy as np\n",
    "import pandas as pd\n",
    "from tqdm.notebook import trange\n",
    "\n",
    "# Matplotlib for additional customization\n",
    "from matplotlib import pyplot as plt\n",
    "%matplotlib inline\n",
    "\n",
    "# Seaborn for plotting and styling\n",
    "import seaborn as sns"
   ]
  },
  {
   "cell_type": "code",
   "execution_count": 4,
   "metadata": {},
   "outputs": [],
   "source": [
    "for p in ['../spotlight_ext']:\n",
    "    module_path = os.path.abspath(os.path.join(p))\n",
    "    if module_path not in sys.path:\n",
    "        sys.path.append(module_path)\n",
    "\n",
    "models_path = '../models'"
   ]
  },
  {
   "cell_type": "code",
   "execution_count": 5,
   "metadata": {},
   "outputs": [],
   "source": [
    "from spotlight.cross_validation import random_train_test_split\n",
    "from spotlight.datasets.movielens import get_movielens_dataset\n",
    "\n",
    "# get dataset\n",
    "dataset = get_movielens_dataset(variant='1M')\n",
    "train, test = random_train_test_split(dataset, random_state=np.random.RandomState(2020))\n",
    "\n",
    "max_sequence_length = 20\n",
    "train = train.to_sequence(max_sequence_length=max_sequence_length)\n",
    "test = test.to_sequence(max_sequence_length=max_sequence_length)"
   ]
  },
  {
   "cell_type": "code",
   "execution_count": 6,
   "metadata": {},
   "outputs": [],
   "source": [
    "# load trained model\n",
    "# ofile = 'entire_model_1m.pt'\n",
    "ofile = 'entire_model_1m_20interactions.pt'\n",
    "model = torch.load(os.path.join(models_path, ofile))"
   ]
  },
  {
   "cell_type": "markdown",
   "metadata": {},
   "source": [
    "## Compute losses"
   ]
  },
  {
   "cell_type": "code",
   "execution_count": 7,
   "metadata": {},
   "outputs": [],
   "source": [
    "def compute_yloss(curr_score, kth_score):\n",
    "    yloss = 0.0\n",
    "    for i in range(total_CFs):\n",
    "        temp_loss = curr_score/kth_score\n",
    "\n",
    "        yloss += temp_loss    \n",
    "\n",
    "    return yloss/total_CFs    "
   ]
  },
  {
   "cell_type": "code",
   "execution_count": 8,
   "metadata": {},
   "outputs": [],
   "source": [
    "def compute_dist(x_hat, x1):\n",
    "    \"\"\"Compute weighted distance between two vectors.\"\"\"\n",
    "#     return sum(abs(x_hat - x1))\n",
    "    diff = set(x1).difference(set(x_hat))\n",
    "    return len(diff)\n",
    "\n",
    "def compute_proximity_loss(cfs, x1):\n",
    "    proximity_loss = 0.0\n",
    "    for i in range(total_CFs):        \n",
    "        proximity_loss += compute_dist(cfs[i], x1)\n",
    "    return proximity_loss/total_CFs"
   ]
  },
  {
   "cell_type": "code",
   "execution_count": 9,
   "metadata": {},
   "outputs": [],
   "source": [
    "def compute_diversity_loss():\n",
    "    proximity_loss = 0.0\n",
    "    return proximity_loss/total_CFs"
   ]
  },
  {
   "cell_type": "code",
   "execution_count": 10,
   "metadata": {},
   "outputs": [],
   "source": [
    "def compute_loss():\n",
    "    \"\"\"Computes the overall loss\"\"\"\n",
    "    yloss = compute_yloss()\n",
    "    proximity_loss = compute_proximity_loss() if proximity_weight > 0 else 0.0\n",
    "    diversity_loss = compute_diversity_loss() if diversity_weight > 0 else 0.0    \n",
    "\n",
    "    loss = yloss + (proximity_weight * proximity_loss) - (diversity_weight * diversity_loss)\n",
    "    return loss"
   ]
  },
  {
   "cell_type": "code",
   "execution_count": 24,
   "metadata": {},
   "outputs": [],
   "source": [
    "FLOAT_MAX = np.finfo(np.float32).max\n",
    "\n",
    "class ItemInteractionInfo:\n",
    "    user_id = -1\n",
    "    item_id = -1\n",
    "    score = 0\n",
    "    pos = -1\n",
    "    interactions = []\n",
    "    complete_interactions = []\n",
    "    recommends = []\n",
    "    iter_no = -1\n",
    "    satisfy_objective = True\n",
    "    satisfy_contraints = True\n",
    "    y_loss = 1.0\n",
    "    proximity_loss = FLOAT_MAX\n",
    "    solution_found = False\n",
    "    \n",
    "    def __init__(self, uid, iid=-1, p=-1, i=None, fobj=True, fconstraint=True):\n",
    "        self.user_id = uid\n",
    "        self.item_id = iid\n",
    "        self.pos = p\n",
    "        self.interactions = i\n",
    "        self.satisfy_objective = fobj\n",
    "        self.satisfy_contraints = fconstraint\n",
    "        \n",
    "    def __str__(self): \n",
    "        sorted_recommended_items = [(n[0], n[1].detach().numpy().flatten()[0]) if isinstance(n[1], torch.Tensor) else (n[0], n[1]) for n in self.recommends]\n",
    "            \n",
    "        return (f'\\n'\n",
    "                f'user_id: {self.user_id}, item_id: {self.item_id}\\n'\n",
    "                f'yloss: {round(self.y_loss, 4)}, proximity_loss: {int(self.proximity_loss)}\\n'\n",
    "                f'Item {self.item_id} is in position {self.pos} now!!!\\n'\n",
    "                f'Found in iteration {self.iter_no} and the interacted items are {self.interactions}\\n'\n",
    "                f'10-best recommended items {sorted_recommended_items}\\n')\n",
    "    \n",
    "    def set_flags(self, do_objective, do_contraints):\n",
    "        self.satisfy_objective = do_objective\n",
    "        self.satisfy_contraints = do_contraints\n",
    "    \n",
    "    def needs_update(self, loss):        \n",
    "        if len(loss):\n",
    "            if (not self.satisfy_contraints or self.y_loss > loss['yloss']) and (not self.satisfy_objective or self.proximity_loss >= loss['proximity']):\n",
    "                return True\n",
    "        \n",
    "        return False    \n",
    "    \n",
    "    def set_values(self, predictions, interacted_items, tot_interacted_items, loss, iter_no, k=10):\n",
    "        # get the ranking position of selected item in the list\n",
    "        self.pos = st.rankdata(-predictions, method='ordinal')[self.item_id]\n",
    "        self.recommends = sorted(enumerate(predictions), key=lambda x: x[1], reverse=True)[:k]\n",
    "        self.iter_no = iter_no\n",
    "        self.y_loss = loss[0]\n",
    "        self.proximity_loss = loss[1]\n",
    "        self.interactions = interacted_items\n",
    "        self.complete_interactions = tot_interacted_items\n",
    "        \n",
    "        self.solution_found = True"
   ]
  },
  {
   "cell_type": "markdown",
   "metadata": {},
   "source": [
    "## Example code"
   ]
  },
  {
   "cell_type": "code",
   "execution_count": 20,
   "metadata": {},
   "outputs": [],
   "source": [
    "# initialize input parameters\n",
    "k = 10\n",
    "no_interactions = 10\n",
    "total_CFs = 1\n",
    "max_interacted_items_to_del = 4\n",
    "user_id = 8\n",
    "\n",
    "proximity_weight, diversity_weight = 1, 0\n",
    "\n",
    "FLOAT_MAX = np.finfo(np.float32).max"
   ]
  },
  {
   "cell_type": "code",
   "execution_count": 21,
   "metadata": {},
   "outputs": [
    {
     "name": "stdout",
     "output_type": "stream",
     "text": [
      "Given the following interactions [384 461 236 478  86 457 511  60 323 443] for user 8, the top-10 recommended items are [266, 372, 594, 227, 485, 1277, 705, 325, 90, 508]\n"
     ]
    },
    {
     "name": "stdin",
     "output_type": "stream",
     "text": [
      "Select item (position) to exclude from recommended list:  5\n"
     ]
    },
    {
     "name": "stdout",
     "output_type": "stream",
     "text": [
      "The selected item in pos 5 is 485\n",
      "\n"
     ]
    }
   ],
   "source": [
    "items_interacted = test.sequences[test.user_ids==user_id][0]\n",
    "predictions = -model.predict(items_interacted[:min(no_interactions, len(items_interacted))])\n",
    "predictions[items_interacted] = FLOAT_MAX\n",
    "\n",
    "print(f'Given the following interactions {items_interacted[:no_interactions]} for user {user_id}, the top-{k} recommended items are '\n",
    "      f'{list(predictions.argsort()[:k])}')\n",
    "cand_pos = input('Select item (position) to exclude from recommended list: ')\n",
    "try:\n",
    "    cand = predictions.argsort()[min(k, int(cand_pos)) - 1]\n",
    "except ValueError:\n",
    "    print(\"That's not an int!\")\n",
    "\n",
    "print(f'The selected item in pos {cand_pos} is {cand}\\n')"
   ]
  },
  {
   "cell_type": "code",
   "execution_count": 26,
   "metadata": {},
   "outputs": [
    {
     "name": "stdout",
     "output_type": "stream",
     "text": [
      "Checking with 1 interacted items removed...\n",
      "Checking with 2 interacted items removed...\n",
      "Checking with 3 interacted items removed...\n",
      "Checking with 4 interacted items removed...\n",
      "\n",
      "Best total loss\n",
      " =============== \n",
      "user_id: 8, item_id: 485\n",
      "yloss: 0.881, proximity_loss: 12\n",
      "Item 485 is in position 19 now!!!\n",
      "Found in iteration 17 and the interacted items are (384, 461, 236, 478, 86, 511, 60, 323)\n",
      "10-best recommended items [(227, 0.0046888264), (594, 0.0045607807), (372, 0.004343697), (461, 0.003976637), (124, 0.0039312975), (539, 0.0037927055), (1277, 0.0037833683), (266, 0.0036134752), (325, 0.0035272632), (439, 0.0034671403)]\n",
      "\n",
      "Similarities of removed items:  [ 4.  9.  3. -3. -5. -1.  8.  0.  1. 10.  5.  2.]\n",
      "\n",
      "Best yloss\n",
      " ========== \n",
      "user_id: 8, item_id: 485\n",
      "yloss: 0.5166, proximity_loss: 14\n",
      "Item 485 is in position 88 now!!!\n",
      "Found in iteration 178 and the interacted items are (384, 461, 236, 478, 86, 60)\n",
      "10-best recommended items [(325, 0.006310096), (227, 0.005587188), (471, 0.005130091), (60, 0.004904969), (897, 0.0035951347), (372, 0.002875684), (466, 0.002866696), (483, 0.002786994), (476, 0.0027653277), (438, 0.0027155948)]\n",
      "\n",
      "Similarities of removed items:  [ 4. -7. -2.  9.  3. -3. -5. -1.  8.  0.  1. 10.  5.  2.]\n",
      "\n",
      "Total iterations: 386\n"
     ]
    }
   ],
   "source": [
    "from itertools import permutations, combinations\n",
    "import torch.nn.functional as F\n",
    "\n",
    "\n",
    "counter = 1\n",
    "best_total_loss = ItemInteractionInfo(user_id, cand)\n",
    "best_yloss = ItemInteractionInfo(user_id, cand, fobj=False)\n",
    "\n",
    "for l in range(1, min(max_interacted_items_to_del, len(items_interacted)) + 1):\n",
    "    print(f'Checking with {l} interacted items removed...')\n",
    "#     produce permutations of various interactions\n",
    "    perm = combinations(items_interacted[:min(no_interactions, len(items_interacted))], min(no_interactions, len(items_interacted)) - l)    \n",
    "\n",
    "    for i in perm:        \n",
    "#         predict next top-k items about to be selected        \n",
    "        preds = model.predict(i)\n",
    "#     convert logits produced by model, i.e., the probability distribution before normalization, by using softmax\n",
    "        tensor = torch.from_numpy(preds).float()\n",
    "        preds = F.softmax(tensor, dim=0)\n",
    "        \n",
    "        yloss = compute_yloss(preds.numpy()[cand], preds.numpy()[reversed(preds.argsort())[k]])\n",
    "        proximity_loss = compute_proximity_loss(np.asarray(i)[np.newaxis, :], items_interacted)    \n",
    "#     keep info about the best solution found depending on an objective function\n",
    "        if best_total_loss.needs_update(dict(yloss=yloss, proximity=proximity_loss)):             \n",
    "            best_total_loss.set_values(preds, i, items_interacted, [yloss, proximity_loss], counter, k)\n",
    "        if best_yloss.needs_update(dict(yloss=yloss, proximity=proximity_loss)):            \n",
    "            best_yloss.set_values(preds, i, items_interacted, [yloss, proximity_loss], counter, k) \n",
    "\n",
    "        counter += 1\n",
    "\n",
    "similarity_rank = k - st.rankdata(similarity_matrix[cand, items_interacted]) + 1\n",
    "\n",
    "print('\\nBest total loss\\n', '=' * len('Best total loss'), best_total_loss)\n",
    "idx_items_exluded = np.where(np.isin(items_interacted, list(set(items_interacted).difference(set(best_total_loss.interactions)))))\n",
    "print('Similarities of removed items: ', similarity_rank[idx_items_exluded])\n",
    "\n",
    "print('\\nBest yloss\\n', '=' * len('Best yloss'), best_yloss)\n",
    "idx_items_exluded = np.where(np.isin(items_interacted, list(set(items_interacted).difference(set(best_yloss.interactions)))))\n",
    "print('Similarities of removed items: ', similarity_rank[idx_items_exluded])\n",
    "\n",
    "print(f'\\nTotal iterations: {counter}')"
   ]
  },
  {
   "cell_type": "markdown",
   "metadata": {},
   "source": [
    "## Optimized technique using item-similarities"
   ]
  },
  {
   "cell_type": "code",
   "execution_count": 220,
   "metadata": {},
   "outputs": [],
   "source": [
    "# compute the item-item similarity matrix utilizing ratings\n",
    "# adjusted cosine similarity on ratings\n",
    "\n",
    "# construct \n",
    "M = np.zeros((dataset.num_users, dataset.num_items))\n",
    "for u in range(1, dataset.num_users):    \n",
    "    np.add.at(M[u], dataset.item_ids[dataset.user_ids==u], dataset.ratings[dataset.user_ids==u])\n",
    "\n",
    "M_u = M.mean(axis=1)\n",
    "item_mean_subtracted = M - M_u[:, np.newaxis]\n",
    "similarity_matrix = 1 - squareform(pdist(item_mean_subtracted.T, 'cosine'))"
   ]
  },
  {
   "cell_type": "code",
   "execution_count": 15,
   "metadata": {},
   "outputs": [
    {
     "data": {
      "application/vnd.jupyter.widget-view+json": {
       "model_id": "a26032d5aaba4f61a6bda221e2f05cd8",
       "version_major": 2,
       "version_minor": 0
      },
      "text/plain": [
       "HBox(children=(HTML(value=''), FloatProgress(value=0.0, max=6040.0), HTML(value='')))"
      ]
     },
     "metadata": {},
     "output_type": "display_data"
    },
    {
     "name": "stdout",
     "output_type": "stream",
     "text": [
      "\n"
     ]
    }
   ],
   "source": [
    "# compute the item-item similarity matrix utilizing implicit feedback, i.e., whether interacted or not with an item\n",
    "# jaccard is used to build the matrix\n",
    "\n",
    "M = np.zeros((dataset.num_users, dataset.num_items), dtype=np.bool)\n",
    "for u in trange(1, dataset.num_users):    \n",
    "    np.add.at(M[u], dataset.item_ids[dataset.user_ids==u], dataset.ratings[dataset.user_ids==u])\n",
    "\n",
    "similarity_matrix = 1 - squareform(pdist(M.T, 'jaccard'))"
   ]
  },
  {
   "cell_type": "code",
   "execution_count": null,
   "metadata": {},
   "outputs": [
    {
     "data": {
      "application/vnd.jupyter.widget-view+json": {
       "model_id": "5a2b360b67764cafadd27afe0768c51d",
       "version_major": 2,
       "version_minor": 0
      },
      "text/plain": [
       "HBox(children=(HTML(value=''), FloatProgress(value=0.0, max=6040.0), HTML(value='')))"
      ]
     },
     "metadata": {},
     "output_type": "display_data"
    }
   ],
   "source": [
    "from itertools import permutations, combinations\n",
    "import torch.nn.functional as F\n",
    "\n",
    "\n",
    "# initial input parameters\n",
    "max_interacted_items_to_del = 5\n",
    "cand_pos = 3\n",
    "top_k = 10\n",
    "total_CFs = 1\n",
    "\n",
    "best_tot_loss_data = []\n",
    "best_yloss_data = []\n",
    "users_no_data = []\n",
    "\n",
    "# print(f'Checking for user', end='')\n",
    "# delimiter = ''\n",
    "for user_id in trange(1, dataset.num_users):\n",
    "#     print(f'{delimiter} {user_id}', end='')\n",
    "#     delimiter = ','\n",
    "    \n",
    "    seq_size = len(test.sequences[test.user_ids==user_id])\n",
    "    best_total_loss = [None] * seq_size\n",
    "    best_yloss = [None] * seq_size\n",
    "    \n",
    "    for j in range(seq_size):    \n",
    "        if all(v > 0 for v in test.sequences[test.user_ids==user_id][j]):    \n",
    "            items_interacted = test.sequences[test.user_ids==user_id][j]\n",
    "            predictions = -model.predict(items_interacted)\n",
    "            predictions[items_interacted] = FLOAT_MAX\n",
    "            \n",
    "            kth_item = predictions.argsort()[top_k - 1]\n",
    "            rec_item_exclude = predictions.argsort()[min(top_k, int(cand_pos)) - 1]\n",
    "            \n",
    "            best_total_loss[j] = ItemInteractionInfo(user_id, rec_item_exclude)\n",
    "            best_yloss[j] = ItemInteractionInfo(user_id, rec_item_exclude, fobj=False)\n",
    "\n",
    "            counter = 1        \n",
    "\n",
    "            for l in range(len(items_interacted) - 1, 0,-1):\n",
    "                if best_total_loss[j].solution_found: break\n",
    "                \n",
    "                # produce permutations of various interactions\n",
    "                perm = combinations(items_interacted, l)    \n",
    "\n",
    "                for i in perm:\n",
    "                    # predict next top-k items about to be selected        \n",
    "                    preds = model.predict(i) \n",
    "                    # convert logits produced by model, i.e., the probability distribution before normalization, by using softmax\n",
    "                    tensor = torch.from_numpy(preds).float()\n",
    "                    preds = F.softmax(tensor, dim=0)\n",
    "\n",
    "                    yloss = compute_yloss(preds.numpy()[rec_item_exclude], preds.numpy()[kth_item])\n",
    "                    proximity_loss = compute_proximity_loss(np.asarray(i)[np.newaxis, :], items_interacted)    \n",
    "                    # keep info about the best solution found depending on an objective function\n",
    "                    if best_total_loss[j].needs_update(dict(yloss=yloss, proximity=proximity_loss)):\n",
    "                        best_total_loss[j].set_values(preds, i, items_interacted, [yloss, proximity_loss], counter, top_k)                        \n",
    "#                     if best_yloss[j].needs_update(dict(yloss=yloss, proximity=proximity_loss)):\n",
    "#                         best_yloss[j].set_values(preds, i, items_interacted, [yloss, proximity_loss], counter, k)                 \n",
    "\n",
    "                    counter += 1     \n",
    "            \n",
    "#     except IndexError as err:        \n",
    "#         users_no_data.append(user_id)\n",
    "        \n",
    "    best_tot_loss_data.append(best_total_loss)\n",
    "    best_yloss_data.append(best_yloss)\n",
    "\n",
    "# print('\\nProcess ended')"
   ]
  },
  {
   "cell_type": "code",
   "execution_count": 605,
   "metadata": {},
   "outputs": [],
   "source": [
    "# save results to df\n",
    "\n",
    "total_data = []\n",
    "for items in best_tot_loss_data:\n",
    "    for idx, rec in enumerate(items):\n",
    "        if rec is None: continue\n",
    "                \n",
    "        similarity_rank = len(rec.complete_interactions) - st.rankdata(similarity_matrix[rec.item_id, rec.complete_interactions]) + 1\n",
    "        del_items_indices = np.where(np.isin(rec.complete_interactions, list(set(rec.complete_interactions).difference(set(rec.interactions)))))\n",
    "#         total_data.extend(list(similarity_rank[del_items_indices].astype(int)))\n",
    "        \n",
    "        total_data.append([\n",
    "            rec.user_id, idx, rec.item_id, rec.y_loss, rec.proximity_loss, \n",
    "            ','.join(map(str, sorted(similarity_rank[del_items_indices].astype(int)))),\n",
    "            ','.join(map(str, set(rec.complete_interactions).difference(set(rec.interactions)))),\n",
    "        ])"
   ]
  },
  {
   "cell_type": "code",
   "execution_count": 605,
   "metadata": {},
   "outputs": [],
   "source": [
    "df_7th = pd.DataFrame(total_data, columns=['user_id', 'pos', 'rec_item_id', 'yloss', 'proximity_loss', 'sim_rank', 'del_iitems'])\n",
    "df_7th['proximity_loss'] = df_7th['proximity_loss'].astype(int)"
   ]
  },
  {
   "cell_type": "markdown",
   "metadata": {},
   "source": [
    "# Stats related to the 7th item excluded from the top-10 recommendation list"
   ]
  },
  {
   "cell_type": "code",
   "execution_count": 585,
   "metadata": {},
   "outputs": [],
   "source": [
    "from collections import Counter\n",
    "\n",
    "\n",
    "non_solvable_cases = []\n",
    "total_data = []\n",
    "for items in best_tot_loss_data:\n",
    "    for rec in items:\n",
    "        if rec is None: continue\n",
    "            \n",
    "        if not rec.solution_found: \n",
    "            non_solvable_cases.append(rec.user_id)\n",
    "            continue\n",
    "\n",
    "        similarity_rank = len(rec.complete_interactions) - st.rankdata(similarity_matrix[rec.item_id, rec.complete_interactions]) + 1\n",
    "        del_items_indices = np.where(np.isin(rec.complete_interactions, list(set(rec.complete_interactions).difference(set(rec.interactions)))))\n",
    "        total_data.extend(list(similarity_rank[del_items_indices].astype(int)))\n",
    "    \n",
    "cnt = Counter(total_data)"
   ]
  },
  {
   "cell_type": "code",
   "execution_count": 586,
   "metadata": {},
   "outputs": [],
   "source": [
    "# with matplotlib\n",
    "# plt.hist(list(cnt.keys()), weights=list(cnt.values()), width=0.8)"
   ]
  },
  {
   "cell_type": "code",
   "execution_count": 587,
   "metadata": {},
   "outputs": [
    {
     "data": {
      "text/plain": [
       "Text(0.5, 0.98, 'Counting all similarity positions of each discovered counterfactual')"
      ]
     },
     "execution_count": 587,
     "metadata": {},
     "output_type": "execute_result"
    },
    {
     "data": {
      "image/png": "[encoded data removed]",
      "text/plain": [
       "<Figure size 1080x360 with 2 Axes>"
      ]
     },
     "metadata": {
      "needs_background": "light"
     },
     "output_type": "display_data"
    }
   ],
   "source": [
    "fig, axs = plt.subplots(1,2, figsize=(15, 5))\n",
    "\n",
    "df = pd.DataFrame.from_dict(cnt, orient='index', columns=['count'])\n",
    "df['percentage'] = df/df.sum()\n",
    "df.sort_index().plot.bar(y='count', ax=axs[0])\n",
    "df.sort_index().plot.bar(y='percentage', ax=axs[1])\n",
    "\n",
    "plt.suptitle('Counting all similarity positions of each discovered counterfactual')"
   ]
  },
  {
   "cell_type": "code",
   "execution_count": 588,
   "metadata": {},
   "outputs": [],
   "source": [
    "from collections import Counter\n",
    "\n",
    "\n",
    "non_solvable_cases = []\n",
    "total_data = []\n",
    "for items in best_tot_loss_data:\n",
    "    for rec in items:\n",
    "        if rec is None: continue\n",
    "            \n",
    "        if not rec.solution_found: \n",
    "            non_solvable_cases.append(rec.user_id)\n",
    "            continue\n",
    "\n",
    "        total_data.append(rec.proximity_loss)\n",
    "    \n",
    "cnt = Counter(total_data)"
   ]
  },
  {
   "cell_type": "code",
   "execution_count": 589,
   "metadata": {},
   "outputs": [
    {
     "data": {
      "text/plain": [
       "Text(0.5, 0.98, 'No of items to exclude from interacted list to have the recommendations change accordingly')"
      ]
     },
     "execution_count": 589,
     "metadata": {},
     "output_type": "execute_result"
    },
    {
     "data": {
      "image/png": "[encoded data removed]",
      "text/plain": [
       "<Figure size 1080x360 with 2 Axes>"
      ]
     },
     "metadata": {
      "needs_background": "light"
     },
     "output_type": "display_data"
    }
   ],
   "source": [
    "fig, axs = plt.subplots(1,2, figsize=(15, 5))\n",
    "\n",
    "df = pd.DataFrame.from_dict(cnt, orient='index', columns=['count'])\n",
    "df['percentage'] = df/df.sum()\n",
    "df.sort_index().plot.bar(y='count', ax=axs[0])\n",
    "df.sort_index().plot.bar(y='percentage', ax=axs[1])\n",
    "\n",
    "plt.suptitle('No of items to exclude from interacted list to have the recommendations change accordingly')"
   ]
  },
  {
   "cell_type": "code",
   "execution_count": 600,
   "metadata": {},
   "outputs": [],
   "source": [
    "from collections import Counter\n",
    "\n",
    "\n",
    "non_solvable_cases = []\n",
    "total_data = []\n",
    "for items in best_tot_loss_data:\n",
    "    for rec in items:\n",
    "        if rec is None: continue\n",
    "            \n",
    "        if not rec.solution_found: \n",
    "            non_solvable_cases.append(rec.user_id)\n",
    "            continue\n",
    "\n",
    "        similarity_rank = len(rec.complete_interactions) - st.rankdata(similarity_matrix[rec.item_id, rec.complete_interactions]) + 1\n",
    "        del_items_indices = np.where(np.isin(rec.complete_interactions, list(set(rec.complete_interactions).difference(set(rec.interactions)))))\n",
    "        total_data.extend(sorted(similarity_rank[del_items_indices].astype(int)[-1:]))        \n",
    "    \n",
    "cnt = Counter(total_data)"
   ]
  },
  {
   "cell_type": "code",
   "execution_count": 601,
   "metadata": {},
   "outputs": [
    {
     "data": {
      "text/plain": [
       "Text(0.5, 0.98, 'Counting the worst similarity position of each discovered counterfactual')"
      ]
     },
     "execution_count": 601,
     "metadata": {},
     "output_type": "execute_result"
    },
    {
     "data": {
      "image/png": "[encoded data removed]",
      "text/plain": [
       "<Figure size 1080x360 with 2 Axes>"
      ]
     },
     "metadata": {
      "needs_background": "light"
     },
     "output_type": "display_data"
    }
   ],
   "source": [
    "fig, axs = plt.subplots(1,2, figsize=(15, 5))\n",
    "\n",
    "df = pd.DataFrame.from_dict(cnt, orient='index', columns=['count'])\n",
    "df['percentage'] = df/df.sum()\n",
    "df.sort_index().plot.bar(y='count', ax=axs[0])\n",
    "df.sort_index().plot.bar(y='percentage', ax=axs[1])\n",
    "\n",
    "plt.suptitle('Counting the worst similarity position of each discovered counterfactual')"
   ]
  },
  {
   "cell_type": "code",
   "execution_count": null,
   "metadata": {},
   "outputs": [],
   "source": []
  }
 ],
 "metadata": {
  "kernelspec": {
   "display_name": "CFExplainability",
   "language": "python",
   "name": "cfexplainability"
  },
  "language_info": {
   "codemirror_mode": {
    "name": "ipython",
    "version": 3
   },
   "file_extension": ".py",
   "mimetype": "text/x-python",
   "name": "python",
   "nbconvert_exporter": "python",
   "pygments_lexer": "ipython3",
   "version": "3.6.9"
  }
 },
 "nbformat": 4,
 "nbformat_minor": 4
}
