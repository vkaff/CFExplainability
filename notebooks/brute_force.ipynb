{
 "cells": [
  {
   "cell_type": "code",
   "execution_count": 3,
   "metadata": {},
   "outputs": [],
   "source": [
    "import os, sys\n",
    "\n",
    "import torch\n",
    "import scipy.stats as st"
   ]
  },
  {
   "cell_type": "code",
   "execution_count": 4,
   "metadata": {},
   "outputs": [],
   "source": [
    "for p in ['../spotlight_ext']:\n",
    "    module_path = os.path.abspath(os.path.join(p))\n",
    "    if module_path not in sys.path:\n",
    "        sys.path.append(module_path)\n",
    "\n",
    "models_path = '../models'"
   ]
  },
  {
   "cell_type": "code",
   "execution_count": 5,
   "metadata": {},
   "outputs": [],
   "source": [
    "from spotlight.cross_validation import random_train_test_split\n",
    "from spotlight.datasets.movielens import get_movielens_dataset\n",
    "\n",
    "# get dataset\n",
    "dataset = get_movielens_dataset(variant='1M')\n",
    "train, test = random_train_test_split(dataset)\n",
    "\n",
    "train = train.to_sequence()\n",
    "test = test.to_sequence()"
   ]
  },
  {
   "cell_type": "code",
   "execution_count": 6,
   "metadata": {},
   "outputs": [],
   "source": [
    "# load trained model\n",
    "ofile = 'entire_model_1m.pt'\n",
    "model = torch.load(os.path.join(models_path, ofile))"
   ]
  },
  {
   "cell_type": "code",
   "execution_count": 7,
   "metadata": {},
   "outputs": [],
   "source": [
    "# initialize input parameters\n",
    "k = 10\n",
    "no_interactions = 5\n",
    "user_id = 8"
   ]
  },
  {
   "cell_type": "code",
   "execution_count": 14,
   "metadata": {},
   "outputs": [],
   "source": [
    "class ItemInteractionInfo:\n",
    "    def __init__(self, uid, iid, p=-1, i=None):\n",
    "        self.user_id = uid\n",
    "        self.item_id = iid\n",
    "        self.pos = p\n",
    "        self.interactions = i\n",
    "        \n",
    "    def __str__(self): \n",
    "        items_order = [(n[0], n[1].detach().numpy().flatten()[0]) if isinstance(n[1], torch.Tensor) else (n[0], n[1]) for n in self.items_order]\n",
    "            \n",
    "        return (f'user_id: {self.user_id}, item_id: {self.item_id}\\n'\n",
    "                f'Found in iter {self.counter_found_best} with score/in pos {self.score} with interactions {self.interactions}\\n'\n",
    "                f'10-best proposed items {items_order}')\n",
    "    \n",
    "    user_id = -1\n",
    "    item_id = -1\n",
    "    score = 0\n",
    "    pos = -1\n",
    "    interactions = []\n",
    "    items_order = []\n",
    "    counter_found_best = -1"
   ]
  },
  {
   "cell_type": "code",
   "execution_count": 20,
   "metadata": {},
   "outputs": [
    {
     "name": "stdout",
     "output_type": "stream",
     "text": [
      "Given the following interactions [446 508 447 488 472] for user 8 the next most 10 possible itemsto interact with are [482, 28, 582, 473, 641, 499, 1025, 1409, 1385, 1593]\n"
     ]
    },
    {
     "name": "stdin",
     "output_type": "stream",
     "text": [
      "Choose one of the above next interacted items that should become less candidate:  28\n"
     ]
    },
    {
     "name": "stdout",
     "output_type": "stream",
     "text": [
      "Current pos of selected item 28 is 2\n",
      "\n"
     ]
    }
   ],
   "source": [
    "items_interacted = test.sequences[test.user_ids==user_id][0]\n",
    "predictions = -model.predict(items_interacted[:no_interactions])\n",
    "\n",
    "print(f'Given the following interactions {items_interacted[:no_interactions]} for user {user_id} the next most {k} possible items'\n",
    "      f'to interact with are {list(predictions.argsort()[:k])}')\n",
    "cand = input('Choose one of the above next interacted items that should become less candidate: ')\n",
    "try:\n",
    "    cand = int(cand)\n",
    "except ValueError:\n",
    "    print(\"That's not an int!\")\n",
    "\n",
    "print(f'Current pos of selected item {cand} is {st.rankdata(predictions, method=\"ordinal\")[cand]}\\n')"
   ]
  },
  {
   "cell_type": "code",
   "execution_count": 25,
   "metadata": {},
   "outputs": [
    {
     "name": "stdout",
     "output_type": "stream",
     "text": [
      "user_id: 8, item_id: 28\n",
      "Found in iter 53 with score/in pos 43 with interactions (447, 508, 446)\n",
      "10-best proposed items [(462, 0.0033340384), (485, 0.003119285), (461, 0.002942569), (60, 0.002781871), (466, 0.002767015), (449, 0.002645208), (57, 0.0025820122), (313, 0.0025489107), (686, 0.0022733852), (927, 0.0022616663)] \n",
      "Total iterations: 326\n"
     ]
    }
   ],
   "source": [
    "from itertools import permutations\n",
    "import torch.nn.functional as F\n",
    "\n",
    "\n",
    "counter = 1\n",
    "best_inter = ItemInteractionInfo(user_id, cand)\n",
    "\n",
    "for l in range(1, no_interactions + 1):\n",
    "#     produce permutations of various interactions\n",
    "    perm = permutations(items_interacted[:no_interactions], l)    \n",
    "\n",
    "    for i in list(perm):\n",
    "#         predict next top-k items about to be selected\n",
    "        preds = model.predict(i) \n",
    "#     convert logits produced by model, i.e., the probability distribution before normalization, by using softmax\n",
    "        tensor = torch.from_numpy(preds).float()\n",
    "        preds = F.softmax(tensor, dim=0)\n",
    "#         get the ranking position of selected item in the list\n",
    "        item_pos = st.rankdata(-preds, method='ordinal')[cand]\n",
    "#     keep info about the best solution found depending on an objective function\n",
    "        if item_pos > best_inter.score:\n",
    "            best_inter.score = item_pos\n",
    "            best_inter.interactions = i\n",
    "            best_inter.items_order = sorted(enumerate(preds), key=lambda x: x[1], reverse=True)[:k]\n",
    "            best_inter.counter_found_best = counter\n",
    "\n",
    "        counter += 1\n",
    "    \n",
    "print(best_inter, f'\\nTotal iterations: {counter}')"
   ]
  },
  {
   "cell_type": "code",
   "execution_count": null,
   "metadata": {},
   "outputs": [],
   "source": []
  }
 ],
 "metadata": {
  "kernelspec": {
   "display_name": "CFExplainability",
   "language": "python",
   "name": "cfexplainability"
  },
  "language_info": {
   "codemirror_mode": {
    "name": "ipython",
    "version": 3
   },
   "file_extension": ".py",
   "mimetype": "text/x-python",
   "name": "python",
   "nbconvert_exporter": "python",
   "pygments_lexer": "ipython3",
   "version": "3.6.9"
  }
 },
 "nbformat": 4,
 "nbformat_minor": 4
}
