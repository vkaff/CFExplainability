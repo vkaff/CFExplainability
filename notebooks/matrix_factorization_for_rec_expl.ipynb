{
 "cells": [
  {
   "cell_type": "code",
   "execution_count": 65,
   "metadata": {},
   "outputs": [],
   "source": [
    "import os, sys\n",
    "import shutil\n",
    "import time\n",
    "import numpy as np\n",
    "import pandas as pd\n",
    "\n",
    "import torch\n",
    "\n",
    "# Matplotlib for additional customization\n",
    "from matplotlib import pyplot as plt\n",
    "%matplotlib inline\n",
    "\n",
    "# Seaborn for plotting and styling\n",
    "import seaborn as sns"
   ]
  },
  {
   "cell_type": "code",
   "execution_count": 37,
   "metadata": {},
   "outputs": [],
   "source": [
    "for p in ['../spotlight_ext']:\n",
    "    module_path = os.path.abspath(os.path.join(p))\n",
    "    if module_path not in sys.path:\n",
    "        sys.path.append(module_path)\n",
    "        \n",
    "random_state = np.random.RandomState(2020)"
   ]
  },
  {
   "cell_type": "code",
   "execution_count": 59,
   "metadata": {},
   "outputs": [],
   "source": [
    "from spotlight.cross_validation import random_train_test_split\n",
    "from spotlight.datasets.movielens import get_movielens_dataset\n",
    "\n",
    "# get dataset\n",
    "dataset = get_movielens_dataset(variant='1M')\n",
    "train, test = random_train_test_split(dataset, random_state=random_state)\n",
    "\n",
    "max_sequence_length = 20\n",
    "train = train.to_sequence(max_sequence_length=max_sequence_length)\n",
    "test = test.to_sequence(max_sequence_length=max_sequence_length)"
   ]
  },
  {
   "cell_type": "code",
   "execution_count": 56,
   "metadata": {},
   "outputs": [],
   "source": [
    "%run helpers.ipynb"
   ]
  },
  {
   "cell_type": "code",
   "execution_count": 21,
   "metadata": {},
   "outputs": [
    {
     "ename": "NameError",
     "evalue": "name 'similarity_matrix' is not defined",
     "output_type": "error",
     "traceback": [
      "\u001b[0;31m---------------------------------------------------------------------------\u001b[0m",
      "\u001b[0;31mNameError\u001b[0m                                 Traceback (most recent call last)",
      "\u001b[0;32m<ipython-input-21-b10555417fac>\u001b[0m in \u001b[0;36m<module>\u001b[0;34m\u001b[0m\n\u001b[1;32m     10\u001b[0m             \u001b[0;32mcontinue\u001b[0m\u001b[0;34m\u001b[0m\u001b[0;34m\u001b[0m\u001b[0m\n\u001b[1;32m     11\u001b[0m \u001b[0;34m\u001b[0m\u001b[0m\n\u001b[0;32m---> 12\u001b[0;31m         \u001b[0msimilarity_rank\u001b[0m \u001b[0;34m=\u001b[0m \u001b[0mlen\u001b[0m\u001b[0;34m(\u001b[0m\u001b[0mrec\u001b[0m\u001b[0;34m.\u001b[0m\u001b[0mcomplete_interactions\u001b[0m\u001b[0;34m)\u001b[0m \u001b[0;34m-\u001b[0m \u001b[0mst\u001b[0m\u001b[0;34m.\u001b[0m\u001b[0mrankdata\u001b[0m\u001b[0;34m(\u001b[0m\u001b[0msimilarity_matrix\u001b[0m\u001b[0;34m[\u001b[0m\u001b[0mrec\u001b[0m\u001b[0;34m.\u001b[0m\u001b[0mitem_id\u001b[0m\u001b[0;34m,\u001b[0m \u001b[0mrec\u001b[0m\u001b[0;34m.\u001b[0m\u001b[0mcomplete_interactions\u001b[0m\u001b[0;34m]\u001b[0m\u001b[0;34m)\u001b[0m \u001b[0;34m+\u001b[0m \u001b[0;36m1\u001b[0m\u001b[0;34m\u001b[0m\u001b[0;34m\u001b[0m\u001b[0m\n\u001b[0m\u001b[1;32m     13\u001b[0m         \u001b[0mdel_items_indices\u001b[0m \u001b[0;34m=\u001b[0m \u001b[0mnp\u001b[0m\u001b[0;34m.\u001b[0m\u001b[0mwhere\u001b[0m\u001b[0;34m(\u001b[0m\u001b[0mnp\u001b[0m\u001b[0;34m.\u001b[0m\u001b[0misin\u001b[0m\u001b[0;34m(\u001b[0m\u001b[0mrec\u001b[0m\u001b[0;34m.\u001b[0m\u001b[0mcomplete_interactions\u001b[0m\u001b[0;34m,\u001b[0m \u001b[0mlist\u001b[0m\u001b[0;34m(\u001b[0m\u001b[0mset\u001b[0m\u001b[0;34m(\u001b[0m\u001b[0mrec\u001b[0m\u001b[0;34m.\u001b[0m\u001b[0mcomplete_interactions\u001b[0m\u001b[0;34m)\u001b[0m\u001b[0;34m.\u001b[0m\u001b[0mdifference\u001b[0m\u001b[0;34m(\u001b[0m\u001b[0mset\u001b[0m\u001b[0;34m(\u001b[0m\u001b[0mrec\u001b[0m\u001b[0;34m.\u001b[0m\u001b[0minteractions\u001b[0m\u001b[0;34m)\u001b[0m\u001b[0;34m)\u001b[0m\u001b[0;34m)\u001b[0m\u001b[0;34m)\u001b[0m\u001b[0;34m)\u001b[0m\u001b[0;34m\u001b[0m\u001b[0;34m\u001b[0m\u001b[0m\n\u001b[1;32m     14\u001b[0m \u001b[0;31m#         total_data.extend(list(similarity_rank[del_items_indices].astype(int)))\u001b[0m\u001b[0;34m\u001b[0m\u001b[0;34m\u001b[0m\u001b[0;34m\u001b[0m\u001b[0m\n",
      "\u001b[0;31mNameError\u001b[0m: name 'similarity_matrix' is not defined"
     ]
    }
   ],
   "source": [
    "non_solvable_cases = []\n",
    "total_data = []\n",
    "\n",
    "for items in best_cfs:\n",
    "    for idx, rec in enumerate(items):\n",
    "        if rec is None: continue\n",
    "        \n",
    "        if not rec.solution_found: \n",
    "            non_solvable_cases.append(rec.user_id)\n",
    "            continue\n",
    "                \n",
    "        similarities = blnet.forward(torch.LongTensor([rec.user_id]),torch.LongTensor([0, 3]))\n",
    "        similarity_rank = len(rec.complete_interactions) - st.rankdata(similarity_matrix[rec.item_id, rec.complete_interactions]) + 1\n",
    "        del_items_indices = np.where(np.isin(rec.complete_interactions, list(set(rec.complete_interactions).difference(set(rec.interactions)))))\n",
    "#         total_data.extend(list(similarity_rank[del_items_indices].astype(int)))\n",
    "        \n",
    "        total_data.append([\n",
    "            rec.user_id, idx, rec.item_id, rec.y_loss, rec.proximity_loss, \n",
    "            ','.join(map(str, sorted(similarity_rank[del_items_indices].astype(int)))),\n",
    "            ','.join(map(str, set(rec.complete_interactions).difference(set(rec.interactions)))),\n",
    "        ])"
   ]
  },
  {
   "cell_type": "code",
   "execution_count": 28,
   "metadata": {},
   "outputs": [],
   "source": [
    "from spotlight.factorization.representations import BilinearNet\n",
    "from spotlight.factorization.implicit import ImplicitFactorizationModel"
   ]
  },
  {
   "cell_type": "code",
   "execution_count": 31,
   "metadata": {},
   "outputs": [
    {
     "data": {
      "text/plain": [
       "tensor([0.0006, 0.0033], grad_fn=<AddBackward0>)"
      ]
     },
     "execution_count": 31,
     "metadata": {},
     "output_type": "execute_result"
    }
   ],
   "source": [
    "blnet = BilinearNet(max(test.user_ids) + 1, test.num_items)\n",
    "\n",
    "blnet.forward(torch.LongTensor([0]),torch.LongTensor([0, 3]))"
   ]
  },
  {
   "cell_type": "markdown",
   "metadata": {},
   "source": [
    "# Train Implicit model"
   ]
  },
  {
   "cell_type": "code",
   "execution_count": 40,
   "metadata": {},
   "outputs": [
    {
     "name": "stdout",
     "output_type": "stream",
     "text": [
      "Epoch 0: loss 0.9349829854344899\n",
      "Epoch 1: loss 0.8305178899820028\n",
      "Epoch 2: loss 0.7907902263054264\n",
      "Epoch 3: loss 0.7703027150375523\n",
      "Epoch 4: loss 0.7580222433067499\n",
      "Epoch 5: loss 0.749390378665907\n",
      "Epoch 6: loss 0.7431584885265697\n",
      "Epoch 7: loss 0.7383925332525039\n",
      "Epoch 8: loss 0.7355248014466682\n",
      "Epoch 9: loss 0.7323782157048906\n",
      "Elapsed 682.5598618984222\n",
      "<ImplicitFactorizationModel: BilinearNet(\n",
      "  (user_embeddings): ScaledEmbedding(6041, 32)\n",
      "  (item_embeddings): ScaledEmbedding(3707, 32)\n",
      "  (user_biases): ZeroEmbedding(6041, 1)\n",
      "  (item_biases): ZeroEmbedding(3707, 1)\n",
      ")>\n"
     ]
    }
   ],
   "source": [
    "CUDA = (os.environ.get('CUDA') is not None or\n",
    "        shutil.which('nvidia-smi') is not None)\n",
    "\n",
    "train, rest = random_train_test_split(\n",
    "    dataset,\n",
    "    test_percentage=0.2,\n",
    "    random_state=random_state)\n",
    "test, validation = random_train_test_split(\n",
    "    rest,\n",
    "    test_percentage=0.5,\n",
    "    random_state=random_state)\n",
    "    \n",
    "implicit_model = ImplicitFactorizationModel(\n",
    "    loss='adaptive_hinge',\n",
    "    n_iter=10,\n",
    "    batch_size=32,\n",
    "    learning_rate=1e-3,\n",
    "    embedding_dim=256,\n",
    "    l2=0.0,\n",
    "    representation=blnet,\n",
    "    use_cuda=False,\n",
    "    random_state=np.random.RandomState(2020))\n",
    "\n",
    "start_time = time.time()\n",
    "implicit_model.fit(train, verbose=True)\n",
    "elapsed = time.time() - start_time\n",
    "\n",
    "print('Elapsed {}'.format(elapsed))\n",
    "print(implicit_model)\n",
    "\n",
    "# (test_mrr, val_mrr, elapsed) = evaluate_model(\n",
    "#     model,\n",
    "#     train,\n",
    "#     test,\n",
    "#     validation)\n",
    "\n",
    "# print('Test MRR {} val MRR {} elapsed {}'.format(\n",
    "#     test_mrr.mean(), val_mrr.mean(), elapsed\n",
    "# ))"
   ]
  },
  {
   "cell_type": "code",
   "execution_count": 44,
   "metadata": {},
   "outputs": [],
   "source": [
    "save_model(implicit_model, model_type='implicit_factorization')"
   ]
  },
  {
   "cell_type": "code",
   "execution_count": 62,
   "metadata": {},
   "outputs": [
    {
     "data": {
      "text/plain": [
       "tensor([[ 0.1438,  0.1725,  0.0882, -0.2568,  0.4821,  0.3086,  0.1152,  0.0791,\n",
       "         -0.1067,  0.0675,  0.3092, -0.0680,  0.0643, -0.5746, -0.4260, -0.6820,\n",
       "          0.1860, -0.3599,  0.3382, -0.5775,  0.2283, -0.1712, -0.4755, -0.2974,\n",
       "         -0.0607, -0.0758,  0.1443, -0.0623,  0.2852,  0.2158, -0.0940, -0.3759]],\n",
       "       grad_fn=<EmbeddingBackward>)"
      ]
     },
     "execution_count": 62,
     "metadata": {},
     "output_type": "execute_result"
    }
   ],
   "source": [
    "# running example\n",
    "implicit_model._net.item_embeddings(torch.LongTensor([1]))"
   ]
  },
  {
   "cell_type": "markdown",
   "metadata": {},
   "source": [
    "### load appropriate models"
   ]
  },
  {
   "cell_type": "code",
   "execution_count": 60,
   "metadata": {},
   "outputs": [],
   "source": [
    "# implicit_model = load_model('implicit_factorization')\n",
    "lstm_model = load_model(model_type='entire')\n",
    "pooling_model = load_model('pooling')"
   ]
  },
  {
   "cell_type": "markdown",
   "metadata": {},
   "source": [
    "## Use embeddings from **MatrixFactorization** model to compute item similarities on **LSTM-based** model recommendations"
   ]
  },
  {
   "cell_type": "code",
   "execution_count": 50,
   "metadata": {},
   "outputs": [],
   "source": [
    "implicit_sims_matrix = gpu_embeddings_to_cosine_similarity_matrix(\n",
    "    implicit_model._net.item_embeddings(\n",
    "        torch.arange(0, test.num_items, dtype=torch.int64)\n",
    "    ))"
   ]
  },
  {
   "cell_type": "code",
   "execution_count": 61,
   "metadata": {},
   "outputs": [
    {
     "data": {
      "application/vnd.jupyter.widget-view+json": {
       "model_id": "1ef6c2b9bf8b4ca28e5811328b3ef0c7",
       "version_major": 2,
       "version_minor": 0
      },
      "text/plain": [
       "HBox(children=(HTML(value=''), FloatProgress(value=0.0, max=499.0), HTML(value='')))"
      ]
     },
     "metadata": {},
     "output_type": "display_data"
    },
    {
     "name": "stdout",
     "output_type": "stream",
     "text": [
      "\n"
     ]
    }
   ],
   "source": [
    "best_cfs, _ = find_cfs(test, lstm_model, 7, no_users=500)"
   ]
  },
  {
   "cell_type": "code",
   "execution_count": 63,
   "metadata": {},
   "outputs": [],
   "source": [
    "cnt, non_solvable = rank_interactions_to_excluded_item_per_user(best_cfs, implicit_sims_matrix.detach().numpy())"
   ]
  },
  {
   "cell_type": "code",
   "execution_count": 66,
   "metadata": {},
   "outputs": [
    {
     "data": {
      "text/plain": [
       "Text(0.5, 0.98, 'Counting the worst similarity position of each discovered counterfactual')"
      ]
     },
     "execution_count": 66,
     "metadata": {},
     "output_type": "execute_result"
    },
    {
     "data": {
      "image/png": "[encoded data removed]",
      "text/plain": [
       "<Figure size 1080x360 with 2 Axes>"
      ]
     },
     "metadata": {
      "needs_background": "light"
     },
     "output_type": "display_data"
    }
   ],
   "source": [
    "fig, axs = plt.subplots(1,2, figsize=(15, 5))\n",
    "\n",
    "df = pd.DataFrame.from_dict(cnt, orient='index', columns=['count'])\n",
    "df['percentage'] = df/df.sum()\n",
    "df.sort_index().plot.bar(y='count', ax=axs[0])\n",
    "df.sort_index().plot.bar(y='percentage', ax=axs[1])\n",
    "\n",
    "plt.suptitle('Counting the worst similarity position of each discovered counterfactual')"
   ]
  },
  {
   "cell_type": "code",
   "execution_count": 67,
   "metadata": {},
   "outputs": [],
   "source": [
    "from collections import Counter\n",
    "\n",
    "\n",
    "non_solvable_cases = []\n",
    "total_data = []\n",
    "for items in best_cfs:\n",
    "    for rec in items:\n",
    "        if rec is None: continue\n",
    "            \n",
    "        if not rec.solution_found: \n",
    "            non_solvable_cases.append(rec.user_id)\n",
    "            continue\n",
    "\n",
    "        total_data.append(rec.proximity_loss)\n",
    "    \n",
    "cnt = Counter(total_data)"
   ]
  },
  {
   "cell_type": "code",
   "execution_count": 68,
   "metadata": {},
   "outputs": [
    {
     "data": {
      "text/plain": [
       "Text(0.5, 0.98, 'No of items to exclude from interacted list to have the recommendations change accordingly')"
      ]
     },
     "execution_count": 68,
     "metadata": {},
     "output_type": "execute_result"
    },
    {
     "data": {
      "image/png": "[encoded data removed]",
      "text/plain": [
       "<Figure size 1080x360 with 2 Axes>"
      ]
     },
     "metadata": {
      "needs_background": "light"
     },
     "output_type": "display_data"
    }
   ],
   "source": [
    "fig, axs = plt.subplots(1,2, figsize=(15, 5))\n",
    "\n",
    "df = pd.DataFrame.from_dict(cnt, orient='index', columns=['count'])\n",
    "df['percentage'] = df/df.sum()\n",
    "df.sort_index().plot.bar(y='count', ax=axs[0])\n",
    "df.sort_index().plot.bar(y='percentage', ax=axs[1])\n",
    "\n",
    "plt.suptitle('No of items to exclude from interacted list to have the recommendations change accordingly')"
   ]
  },
  {
   "cell_type": "markdown",
   "metadata": {},
   "source": [
    "## Use embeddings from **MatrixFactorization** model to compute item similarities on **Pooling-based** model recommendations"
   ]
  },
  {
   "cell_type": "code",
   "execution_count": 69,
   "metadata": {},
   "outputs": [],
   "source": [
    "implicit_sims_matrix = gpu_embeddings_to_cosine_similarity_matrix(\n",
    "    implicit_model._net.item_embeddings(\n",
    "        torch.arange(0, test.num_items, dtype=torch.int64)\n",
    "    ))"
   ]
  },
  {
   "cell_type": "code",
   "execution_count": 70,
   "metadata": {},
   "outputs": [
    {
     "data": {
      "application/vnd.jupyter.widget-view+json": {
       "model_id": "10e509bc2b8b4591b9dd5026dd593cea",
       "version_major": 2,
       "version_minor": 0
      },
      "text/plain": [
       "HBox(children=(HTML(value=''), FloatProgress(value=0.0, max=499.0), HTML(value='')))"
      ]
     },
     "metadata": {},
     "output_type": "display_data"
    },
    {
     "name": "stdout",
     "output_type": "stream",
     "text": [
      "\n"
     ]
    }
   ],
   "source": [
    "best_cfs, _ = find_cfs(test, pooling_model, 7, no_users=500)"
   ]
  },
  {
   "cell_type": "code",
   "execution_count": 71,
   "metadata": {},
   "outputs": [],
   "source": [
    "cnt, non_solvable = rank_interactions_to_excluded_item_per_user(best_cfs, implicit_sims_matrix.detach().numpy())"
   ]
  },
  {
   "cell_type": "code",
   "execution_count": 72,
   "metadata": {},
   "outputs": [
    {
     "data": {
      "text/plain": [
       "Text(0.5, 0.98, 'Counting the worst similarity position of each discovered counterfactual')"
      ]
     },
     "execution_count": 72,
     "metadata": {},
     "output_type": "execute_result"
    },
    {
     "data": {
      "image/png": "[encoded data removed]",
      "text/plain": [
       "<Figure size 1080x360 with 2 Axes>"
      ]
     },
     "metadata": {
      "needs_background": "light"
     },
     "output_type": "display_data"
    }
   ],
   "source": [
    "fig, axs = plt.subplots(1,2, figsize=(15, 5))\n",
    "\n",
    "df = pd.DataFrame.from_dict(cnt, orient='index', columns=['count'])\n",
    "df['percentage'] = df/df.sum()\n",
    "df.sort_index().plot.bar(y='count', ax=axs[0])\n",
    "df.sort_index().plot.bar(y='percentage', ax=axs[1])\n",
    "\n",
    "plt.suptitle('Counting the worst similarity position of each discovered counterfactual')"
   ]
  },
  {
   "cell_type": "code",
   "execution_count": 73,
   "metadata": {},
   "outputs": [],
   "source": [
    "from collections import Counter\n",
    "\n",
    "\n",
    "non_solvable_cases = []\n",
    "total_data = []\n",
    "for items in best_cfs:\n",
    "    for rec in items:\n",
    "        if rec is None: continue\n",
    "            \n",
    "        if not rec.solution_found: \n",
    "            non_solvable_cases.append(rec.user_id)\n",
    "            continue\n",
    "\n",
    "        total_data.append(rec.proximity_loss)\n",
    "    \n",
    "cnt = Counter(total_data)"
   ]
  },
  {
   "cell_type": "code",
   "execution_count": 74,
   "metadata": {},
   "outputs": [
    {
     "data": {
      "text/plain": [
       "Text(0.5, 0.98, 'No of items to exclude from interacted list to have the recommendations change accordingly')"
      ]
     },
     "execution_count": 74,
     "metadata": {},
     "output_type": "execute_result"
    },
    {
     "data": {
      "image/png": "[encoded data removed]",
      "text/plain": [
       "<Figure size 1080x360 with 2 Axes>"
      ]
     },
     "metadata": {
      "needs_background": "light"
     },
     "output_type": "display_data"
    }
   ],
   "source": [
    "fig, axs = plt.subplots(1,2, figsize=(15, 5))\n",
    "\n",
    "df = pd.DataFrame.from_dict(cnt, orient='index', columns=['count'])\n",
    "df['percentage'] = df/df.sum()\n",
    "df.sort_index().plot.bar(y='count', ax=axs[0])\n",
    "df.sort_index().plot.bar(y='percentage', ax=axs[1])\n",
    "\n",
    "plt.suptitle('No of items to exclude from interacted list to have the recommendations change accordingly')"
   ]
  },
  {
   "cell_type": "code",
   "execution_count": null,
   "metadata": {},
   "outputs": [],
   "source": []
  }
 ],
 "metadata": {
  "kernelspec": {
   "display_name": "CFExplainability",
   "language": "python",
   "name": "cfexplainability"
  },
  "language_info": {
   "codemirror_mode": {
    "name": "ipython",
    "version": 3
   },
   "file_extension": ".py",
   "mimetype": "text/x-python",
   "name": "python",
   "nbconvert_exporter": "python",
   "pygments_lexer": "ipython3",
   "version": "3.6.9"
  }
 },
 "nbformat": 4,
 "nbformat_minor": 4
}
